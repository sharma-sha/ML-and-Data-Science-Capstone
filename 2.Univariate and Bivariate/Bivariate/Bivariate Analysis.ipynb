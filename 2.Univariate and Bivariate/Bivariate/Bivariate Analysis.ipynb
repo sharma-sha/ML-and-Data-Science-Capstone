{
 "cells": [
  {
   "cell_type": "code",
   "execution_count": 1,
   "id": "fbd61a41",
   "metadata": {},
   "outputs": [],
   "source": [
    "import pandas as pd"
   ]
  },
  {
   "cell_type": "code",
   "execution_count": 2,
   "id": "cbd93b89",
   "metadata": {},
   "outputs": [],
   "source": [
    "dataset=pd.read_csv(\"DS_jOBs.csv\")"
   ]
  },
  {
   "cell_type": "code",
   "execution_count": 3,
   "id": "ab748923",
   "metadata": {
    "scrolled": true
   },
   "outputs": [
    {
     "data": {
      "text/html": [
       "<div>\n",
       "<style scoped>\n",
       "    .dataframe tbody tr th:only-of-type {\n",
       "        vertical-align: middle;\n",
       "    }\n",
       "\n",
       "    .dataframe tbody tr th {\n",
       "        vertical-align: top;\n",
       "    }\n",
       "\n",
       "    .dataframe thead th {\n",
       "        text-align: right;\n",
       "    }\n",
       "</style>\n",
       "<table border=\"1\" class=\"dataframe\">\n",
       "  <thead>\n",
       "    <tr style=\"text-align: right;\">\n",
       "      <th></th>\n",
       "      <th>work_year</th>\n",
       "      <th>salary</th>\n",
       "      <th>salary_in_usd</th>\n",
       "      <th>job_title</th>\n",
       "      <th>job_category</th>\n",
       "      <th>salary_currency</th>\n",
       "      <th>employee_residence</th>\n",
       "      <th>experience_level</th>\n",
       "      <th>employment_type</th>\n",
       "      <th>work_setting</th>\n",
       "      <th>company_location</th>\n",
       "      <th>company_size</th>\n",
       "    </tr>\n",
       "  </thead>\n",
       "  <tbody>\n",
       "    <tr>\n",
       "      <th>0</th>\n",
       "      <td>2022.0</td>\n",
       "      <td>186597.0</td>\n",
       "      <td>136086.0</td>\n",
       "      <td>Machine Learning Engineer  in office</td>\n",
       "      <td>Analysis</td>\n",
       "      <td>EUR</td>\n",
       "      <td>US</td>\n",
       "      <td>MI</td>\n",
       "      <td>CT</td>\n",
       "      <td>Remote</td>\n",
       "      <td>DE</td>\n",
       "      <td>L</td>\n",
       "    </tr>\n",
       "    <tr>\n",
       "      <th>1</th>\n",
       "      <td>2020.0</td>\n",
       "      <td>110630.0</td>\n",
       "      <td>67982.0</td>\n",
       "      <td>Statistician  (Remote)</td>\n",
       "      <td>ML/AI</td>\n",
       "      <td>JPY</td>\n",
       "      <td>JP</td>\n",
       "      <td>EX</td>\n",
       "      <td>FL</td>\n",
       "      <td>Remote</td>\n",
       "      <td>IN</td>\n",
       "      <td>M</td>\n",
       "    </tr>\n",
       "    <tr>\n",
       "      <th>2</th>\n",
       "      <td>2022.0</td>\n",
       "      <td>61280.0</td>\n",
       "      <td>153309.0</td>\n",
       "      <td>Machine Learning Engineer</td>\n",
       "      <td>ML/AI</td>\n",
       "      <td>INR</td>\n",
       "      <td>UK</td>\n",
       "      <td>MI</td>\n",
       "      <td>CT</td>\n",
       "      <td>Hybrid</td>\n",
       "      <td>CN</td>\n",
       "      <td>L</td>\n",
       "    </tr>\n",
       "    <tr>\n",
       "      <th>3</th>\n",
       "      <td>2022.0</td>\n",
       "      <td>154130.0</td>\n",
       "      <td>135242.0</td>\n",
       "      <td>Data Analyst  in office</td>\n",
       "      <td>ML/AI</td>\n",
       "      <td>JPY</td>\n",
       "      <td>DE</td>\n",
       "      <td>SE</td>\n",
       "      <td>FT</td>\n",
       "      <td>Hybrid</td>\n",
       "      <td>MX</td>\n",
       "      <td>L</td>\n",
       "    </tr>\n",
       "    <tr>\n",
       "      <th>4</th>\n",
       "      <td>2020.0</td>\n",
       "      <td>172312.0</td>\n",
       "      <td>35156.0</td>\n",
       "      <td>Statistician</td>\n",
       "      <td>Data Science</td>\n",
       "      <td>EUR</td>\n",
       "      <td>UK</td>\n",
       "      <td>MI</td>\n",
       "      <td>FT</td>\n",
       "      <td>In-person</td>\n",
       "      <td>UK</td>\n",
       "      <td>S</td>\n",
       "    </tr>\n",
       "    <tr>\n",
       "      <th>...</th>\n",
       "      <td>...</td>\n",
       "      <td>...</td>\n",
       "      <td>...</td>\n",
       "      <td>...</td>\n",
       "      <td>...</td>\n",
       "      <td>...</td>\n",
       "      <td>...</td>\n",
       "      <td>...</td>\n",
       "      <td>...</td>\n",
       "      <td>...</td>\n",
       "      <td>...</td>\n",
       "      <td>...</td>\n",
       "    </tr>\n",
       "    <tr>\n",
       "      <th>4995</th>\n",
       "      <td>2020.0</td>\n",
       "      <td>179769.0</td>\n",
       "      <td>179111.0</td>\n",
       "      <td>Machine Learning Engineer  (Remote)</td>\n",
       "      <td>Data Science</td>\n",
       "      <td>EUR</td>\n",
       "      <td>UK</td>\n",
       "      <td>SE</td>\n",
       "      <td>CT</td>\n",
       "      <td>In-person</td>\n",
       "      <td>IN</td>\n",
       "      <td>S</td>\n",
       "    </tr>\n",
       "    <tr>\n",
       "      <th>4996</th>\n",
       "      <td>2021.0</td>\n",
       "      <td>184642.0</td>\n",
       "      <td>196373.0</td>\n",
       "      <td>Machine Learning Engineer  (Remote)</td>\n",
       "      <td>Data Science</td>\n",
       "      <td>EUR</td>\n",
       "      <td>CN</td>\n",
       "      <td>SE</td>\n",
       "      <td>FL</td>\n",
       "      <td>Remote</td>\n",
       "      <td>UK</td>\n",
       "      <td>S</td>\n",
       "    </tr>\n",
       "    <tr>\n",
       "      <th>4997</th>\n",
       "      <td>2022.0</td>\n",
       "      <td>135319.0</td>\n",
       "      <td>51366.0</td>\n",
       "      <td>Machine Learning Engineer</td>\n",
       "      <td>Analysis</td>\n",
       "      <td>GBP</td>\n",
       "      <td>UK</td>\n",
       "      <td>EN</td>\n",
       "      <td>FL</td>\n",
       "      <td>Hybrid</td>\n",
       "      <td>JP</td>\n",
       "      <td>M</td>\n",
       "    </tr>\n",
       "    <tr>\n",
       "      <th>4998</th>\n",
       "      <td>2021.0</td>\n",
       "      <td>58037.0</td>\n",
       "      <td>181817.0</td>\n",
       "      <td>Statistician</td>\n",
       "      <td>Data Science</td>\n",
       "      <td>EUR</td>\n",
       "      <td>US</td>\n",
       "      <td>MI</td>\n",
       "      <td>PT</td>\n",
       "      <td>Remote</td>\n",
       "      <td>DE</td>\n",
       "      <td>S</td>\n",
       "    </tr>\n",
       "    <tr>\n",
       "      <th>4999</th>\n",
       "      <td>2020.0</td>\n",
       "      <td>143565.0</td>\n",
       "      <td>172425.0</td>\n",
       "      <td>Data Scientist  (Remote)</td>\n",
       "      <td>Engineering</td>\n",
       "      <td>GBP</td>\n",
       "      <td>CN</td>\n",
       "      <td>EX</td>\n",
       "      <td>CT</td>\n",
       "      <td>Remote</td>\n",
       "      <td>CN</td>\n",
       "      <td>L</td>\n",
       "    </tr>\n",
       "  </tbody>\n",
       "</table>\n",
       "<p>5000 rows × 12 columns</p>\n",
       "</div>"
      ],
      "text/plain": [
       "      work_year    salary  salary_in_usd  \\\n",
       "0        2022.0  186597.0       136086.0   \n",
       "1        2020.0  110630.0        67982.0   \n",
       "2        2022.0   61280.0       153309.0   \n",
       "3        2022.0  154130.0       135242.0   \n",
       "4        2020.0  172312.0        35156.0   \n",
       "...         ...       ...            ...   \n",
       "4995     2020.0  179769.0       179111.0   \n",
       "4996     2021.0  184642.0       196373.0   \n",
       "4997     2022.0  135319.0        51366.0   \n",
       "4998     2021.0   58037.0       181817.0   \n",
       "4999     2020.0  143565.0       172425.0   \n",
       "\n",
       "                                 job_title  job_category salary_currency  \\\n",
       "0     Machine Learning Engineer  in office      Analysis             EUR   \n",
       "1                   Statistician  (Remote)         ML/AI             JPY   \n",
       "2              Machine Learning Engineer           ML/AI             INR   \n",
       "3                  Data Analyst  in office         ML/AI             JPY   \n",
       "4                           Statistician    Data Science             EUR   \n",
       "...                                    ...           ...             ...   \n",
       "4995   Machine Learning Engineer  (Remote)  Data Science             EUR   \n",
       "4996   Machine Learning Engineer  (Remote)  Data Science             EUR   \n",
       "4997           Machine Learning Engineer        Analysis             GBP   \n",
       "4998                        Statistician    Data Science             EUR   \n",
       "4999              Data Scientist  (Remote)   Engineering             GBP   \n",
       "\n",
       "     employee_residence experience_level employment_type work_setting  \\\n",
       "0                    US               MI              CT       Remote   \n",
       "1                    JP               EX              FL       Remote   \n",
       "2                    UK               MI              CT       Hybrid   \n",
       "3                    DE               SE              FT       Hybrid   \n",
       "4                    UK               MI              FT    In-person   \n",
       "...                 ...              ...             ...          ...   \n",
       "4995                 UK               SE              CT    In-person   \n",
       "4996                 CN               SE              FL       Remote   \n",
       "4997                 UK               EN              FL       Hybrid   \n",
       "4998                 US               MI              PT       Remote   \n",
       "4999                 CN               EX              CT       Remote   \n",
       "\n",
       "     company_location company_size  \n",
       "0                  DE            L  \n",
       "1                  IN            M  \n",
       "2                  CN            L  \n",
       "3                  MX            L  \n",
       "4                  UK            S  \n",
       "...               ...          ...  \n",
       "4995               IN            S  \n",
       "4996               UK            S  \n",
       "4997               JP            M  \n",
       "4998               DE            S  \n",
       "4999               CN            L  \n",
       "\n",
       "[5000 rows x 12 columns]"
      ]
     },
     "execution_count": 3,
     "metadata": {},
     "output_type": "execute_result"
    }
   ],
   "source": [
    "dataset"
   ]
  },
  {
   "cell_type": "code",
   "execution_count": 4,
   "id": "9e83d5d8",
   "metadata": {},
   "outputs": [
    {
     "data": {
      "text/plain": [
       "work_year             0\n",
       "salary                0\n",
       "salary_in_usd         0\n",
       "job_title             0\n",
       "job_category          0\n",
       "salary_currency       0\n",
       "employee_residence    0\n",
       "experience_level      0\n",
       "employment_type       0\n",
       "work_setting          0\n",
       "company_location      0\n",
       "company_size          0\n",
       "dtype: int64"
      ]
     },
     "execution_count": 4,
     "metadata": {},
     "output_type": "execute_result"
    }
   ],
   "source": [
    "dataset.isnull().sum()"
   ]
  },
  {
   "cell_type": "code",
   "execution_count": 5,
   "id": "8526cd1d-0fb9-4e62-a65e-a4c25c9bd688",
   "metadata": {},
   "outputs": [],
   "source": [
    "#co-variance"
   ]
  },
  {
   "cell_type": "code",
   "execution_count": 6,
   "id": "d0068cc7",
   "metadata": {},
   "outputs": [
    {
     "data": {
      "text/html": [
       "<div>\n",
       "<style scoped>\n",
       "    .dataframe tbody tr th:only-of-type {\n",
       "        vertical-align: middle;\n",
       "    }\n",
       "\n",
       "    .dataframe tbody tr th {\n",
       "        vertical-align: top;\n",
       "    }\n",
       "\n",
       "    .dataframe thead th {\n",
       "        text-align: right;\n",
       "    }\n",
       "</style>\n",
       "<table border=\"1\" class=\"dataframe\">\n",
       "  <thead>\n",
       "    <tr style=\"text-align: right;\">\n",
       "      <th></th>\n",
       "      <th>work_year</th>\n",
       "      <th>salary</th>\n",
       "      <th>salary_in_usd</th>\n",
       "    </tr>\n",
       "  </thead>\n",
       "  <tbody>\n",
       "    <tr>\n",
       "      <th>work_year</th>\n",
       "      <td>0.671596</td>\n",
       "      <td>1.583082e+03</td>\n",
       "      <td>-6.255598e+02</td>\n",
       "    </tr>\n",
       "    <tr>\n",
       "      <th>salary</th>\n",
       "      <td>1583.082143</td>\n",
       "      <td>5.020236e+09</td>\n",
       "      <td>3.746666e+07</td>\n",
       "    </tr>\n",
       "    <tr>\n",
       "      <th>salary_in_usd</th>\n",
       "      <td>-625.559809</td>\n",
       "      <td>3.746666e+07</td>\n",
       "      <td>2.412166e+09</td>\n",
       "    </tr>\n",
       "  </tbody>\n",
       "</table>\n",
       "</div>"
      ],
      "text/plain": [
       "                 work_year        salary  salary_in_usd\n",
       "work_year         0.671596  1.583082e+03  -6.255598e+02\n",
       "salary         1583.082143  5.020236e+09   3.746666e+07\n",
       "salary_in_usd  -625.559809  3.746666e+07   2.412166e+09"
      ]
     },
     "execution_count": 6,
     "metadata": {},
     "output_type": "execute_result"
    }
   ],
   "source": [
    "dataset.cov(numeric_only=True)"
   ]
  },
  {
   "cell_type": "code",
   "execution_count": 7,
   "id": "f7577a8e-857d-4d27-990c-1496b012bf6a",
   "metadata": {},
   "outputs": [
    {
     "data": {
      "text/html": [
       "<div>\n",
       "<style scoped>\n",
       "    .dataframe tbody tr th:only-of-type {\n",
       "        vertical-align: middle;\n",
       "    }\n",
       "\n",
       "    .dataframe tbody tr th {\n",
       "        vertical-align: top;\n",
       "    }\n",
       "\n",
       "    .dataframe thead th {\n",
       "        text-align: right;\n",
       "    }\n",
       "</style>\n",
       "<table border=\"1\" class=\"dataframe\">\n",
       "  <thead>\n",
       "    <tr style=\"text-align: right;\">\n",
       "      <th></th>\n",
       "      <th>work_year</th>\n",
       "      <th>salary</th>\n",
       "      <th>salary_in_usd</th>\n",
       "    </tr>\n",
       "  </thead>\n",
       "  <tbody>\n",
       "    <tr>\n",
       "      <th>work_year</th>\n",
       "      <td>1.000000</td>\n",
       "      <td>0.027264</td>\n",
       "      <td>-0.015542</td>\n",
       "    </tr>\n",
       "    <tr>\n",
       "      <th>salary</th>\n",
       "      <td>0.027264</td>\n",
       "      <td>1.000000</td>\n",
       "      <td>0.010767</td>\n",
       "    </tr>\n",
       "    <tr>\n",
       "      <th>salary_in_usd</th>\n",
       "      <td>-0.015542</td>\n",
       "      <td>0.010767</td>\n",
       "      <td>1.000000</td>\n",
       "    </tr>\n",
       "  </tbody>\n",
       "</table>\n",
       "</div>"
      ],
      "text/plain": [
       "               work_year    salary  salary_in_usd\n",
       "work_year       1.000000  0.027264      -0.015542\n",
       "salary          0.027264  1.000000       0.010767\n",
       "salary_in_usd  -0.015542  0.010767       1.000000"
      ]
     },
     "execution_count": 7,
     "metadata": {},
     "output_type": "execute_result"
    }
   ],
   "source": [
    "dataset.corr(numeric_only=True)"
   ]
  },
  {
   "cell_type": "code",
   "execution_count": 8,
   "id": "9240d69b-74e5-4bb4-957f-1ce9c1127978",
   "metadata": {},
   "outputs": [
    {
     "data": {
      "text/plain": [
       "1583.0821434686936"
      ]
     },
     "execution_count": 8,
     "metadata": {},
     "output_type": "execute_result"
    }
   ],
   "source": [
    "dataset['work_year'].cov(dataset['salary'])"
   ]
  },
  {
   "cell_type": "markdown",
   "id": "e722d82e-5826-49a0-9c93-47fbe5156928",
   "metadata": {},
   "source": [
    "Covariance Interpretation:\n",
    "\n",
    "The covariance value, 1583.08, indicates a positive linear relationship between work_year and salary. This means that:\n",
    "\n",
    "1. As work_year increases, salary tends to increase.\n",
    "2. The strength of the relationship is moderate (covariance value is not extremely high or low)."
   ]
  },
  {
   "cell_type": "code",
   "execution_count": 9,
   "id": "6b574133-e29f-4a43-95db-8c48facffaa3",
   "metadata": {},
   "outputs": [
    {
     "data": {
      "text/plain": [
       "-0.015542152189320039"
      ]
     },
     "execution_count": 9,
     "metadata": {},
     "output_type": "execute_result"
    }
   ],
   "source": [
    "dataset['work_year'].corr(dataset['salary_in_usd'])"
   ]
  },
  {
   "cell_type": "markdown",
   "id": "c5299c0a-c5f2-4412-8b34-803c38704880",
   "metadata": {},
   "source": [
    "Correlation Interpretation:\n",
    "\n",
    "This very weak negative correlation suggests that:\n",
    "\n",
    "1. There is no strong linear relationship between work_year and salary_in_usd.\n",
    "2. As work_year increases, salary_in_usd does not consistently increase or decrease."
   ]
  },
  {
   "cell_type": "code",
   "execution_count": 10,
   "id": "362f94f6",
   "metadata": {
    "scrolled": true
   },
   "outputs": [
    {
     "data": {
      "text/html": [
       "<div>\n",
       "<style scoped>\n",
       "    .dataframe tbody tr th:only-of-type {\n",
       "        vertical-align: middle;\n",
       "    }\n",
       "\n",
       "    .dataframe tbody tr th {\n",
       "        vertical-align: top;\n",
       "    }\n",
       "\n",
       "    .dataframe thead th {\n",
       "        text-align: right;\n",
       "    }\n",
       "</style>\n",
       "<table border=\"1\" class=\"dataframe\">\n",
       "  <thead>\n",
       "    <tr style=\"text-align: right;\">\n",
       "      <th></th>\n",
       "      <th>work_year</th>\n",
       "      <th>salary</th>\n",
       "      <th>salary_in_usd</th>\n",
       "      <th>job_title</th>\n",
       "      <th>job_category</th>\n",
       "      <th>salary_currency</th>\n",
       "      <th>employee_residence</th>\n",
       "      <th>experience_level</th>\n",
       "      <th>employment_type</th>\n",
       "      <th>work_setting</th>\n",
       "      <th>company_location</th>\n",
       "      <th>company_size</th>\n",
       "    </tr>\n",
       "  </thead>\n",
       "  <tbody>\n",
       "    <tr>\n",
       "      <th>0</th>\n",
       "      <td>2022.0</td>\n",
       "      <td>186597.0</td>\n",
       "      <td>136086.0</td>\n",
       "      <td>Machine Learning Engineer  in office</td>\n",
       "      <td>Analysis</td>\n",
       "      <td>EUR</td>\n",
       "      <td>US</td>\n",
       "      <td>MI</td>\n",
       "      <td>CT</td>\n",
       "      <td>Remote</td>\n",
       "      <td>DE</td>\n",
       "      <td>L</td>\n",
       "    </tr>\n",
       "    <tr>\n",
       "      <th>1</th>\n",
       "      <td>2020.0</td>\n",
       "      <td>110630.0</td>\n",
       "      <td>67982.0</td>\n",
       "      <td>Statistician  (Remote)</td>\n",
       "      <td>ML/AI</td>\n",
       "      <td>JPY</td>\n",
       "      <td>JP</td>\n",
       "      <td>EX</td>\n",
       "      <td>FL</td>\n",
       "      <td>Remote</td>\n",
       "      <td>IN</td>\n",
       "      <td>M</td>\n",
       "    </tr>\n",
       "    <tr>\n",
       "      <th>2</th>\n",
       "      <td>2022.0</td>\n",
       "      <td>61280.0</td>\n",
       "      <td>153309.0</td>\n",
       "      <td>Machine Learning Engineer</td>\n",
       "      <td>ML/AI</td>\n",
       "      <td>INR</td>\n",
       "      <td>UK</td>\n",
       "      <td>MI</td>\n",
       "      <td>CT</td>\n",
       "      <td>Hybrid</td>\n",
       "      <td>CN</td>\n",
       "      <td>L</td>\n",
       "    </tr>\n",
       "    <tr>\n",
       "      <th>3</th>\n",
       "      <td>2022.0</td>\n",
       "      <td>154130.0</td>\n",
       "      <td>135242.0</td>\n",
       "      <td>Data Analyst  in office</td>\n",
       "      <td>ML/AI</td>\n",
       "      <td>JPY</td>\n",
       "      <td>DE</td>\n",
       "      <td>SE</td>\n",
       "      <td>FT</td>\n",
       "      <td>Hybrid</td>\n",
       "      <td>MX</td>\n",
       "      <td>L</td>\n",
       "    </tr>\n",
       "    <tr>\n",
       "      <th>4</th>\n",
       "      <td>2020.0</td>\n",
       "      <td>172312.0</td>\n",
       "      <td>35156.0</td>\n",
       "      <td>Statistician</td>\n",
       "      <td>Data Science</td>\n",
       "      <td>EUR</td>\n",
       "      <td>UK</td>\n",
       "      <td>MI</td>\n",
       "      <td>FT</td>\n",
       "      <td>In-person</td>\n",
       "      <td>UK</td>\n",
       "      <td>S</td>\n",
       "    </tr>\n",
       "    <tr>\n",
       "      <th>...</th>\n",
       "      <td>...</td>\n",
       "      <td>...</td>\n",
       "      <td>...</td>\n",
       "      <td>...</td>\n",
       "      <td>...</td>\n",
       "      <td>...</td>\n",
       "      <td>...</td>\n",
       "      <td>...</td>\n",
       "      <td>...</td>\n",
       "      <td>...</td>\n",
       "      <td>...</td>\n",
       "      <td>...</td>\n",
       "    </tr>\n",
       "    <tr>\n",
       "      <th>4995</th>\n",
       "      <td>2020.0</td>\n",
       "      <td>179769.0</td>\n",
       "      <td>179111.0</td>\n",
       "      <td>Machine Learning Engineer  (Remote)</td>\n",
       "      <td>Data Science</td>\n",
       "      <td>EUR</td>\n",
       "      <td>UK</td>\n",
       "      <td>SE</td>\n",
       "      <td>CT</td>\n",
       "      <td>In-person</td>\n",
       "      <td>IN</td>\n",
       "      <td>S</td>\n",
       "    </tr>\n",
       "    <tr>\n",
       "      <th>4996</th>\n",
       "      <td>2021.0</td>\n",
       "      <td>184642.0</td>\n",
       "      <td>196373.0</td>\n",
       "      <td>Machine Learning Engineer  (Remote)</td>\n",
       "      <td>Data Science</td>\n",
       "      <td>EUR</td>\n",
       "      <td>CN</td>\n",
       "      <td>SE</td>\n",
       "      <td>FL</td>\n",
       "      <td>Remote</td>\n",
       "      <td>UK</td>\n",
       "      <td>S</td>\n",
       "    </tr>\n",
       "    <tr>\n",
       "      <th>4997</th>\n",
       "      <td>2022.0</td>\n",
       "      <td>135319.0</td>\n",
       "      <td>51366.0</td>\n",
       "      <td>Machine Learning Engineer</td>\n",
       "      <td>Analysis</td>\n",
       "      <td>GBP</td>\n",
       "      <td>UK</td>\n",
       "      <td>EN</td>\n",
       "      <td>FL</td>\n",
       "      <td>Hybrid</td>\n",
       "      <td>JP</td>\n",
       "      <td>M</td>\n",
       "    </tr>\n",
       "    <tr>\n",
       "      <th>4998</th>\n",
       "      <td>2021.0</td>\n",
       "      <td>58037.0</td>\n",
       "      <td>181817.0</td>\n",
       "      <td>Statistician</td>\n",
       "      <td>Data Science</td>\n",
       "      <td>EUR</td>\n",
       "      <td>US</td>\n",
       "      <td>MI</td>\n",
       "      <td>PT</td>\n",
       "      <td>Remote</td>\n",
       "      <td>DE</td>\n",
       "      <td>S</td>\n",
       "    </tr>\n",
       "    <tr>\n",
       "      <th>4999</th>\n",
       "      <td>2020.0</td>\n",
       "      <td>143565.0</td>\n",
       "      <td>172425.0</td>\n",
       "      <td>Data Scientist  (Remote)</td>\n",
       "      <td>Engineering</td>\n",
       "      <td>GBP</td>\n",
       "      <td>CN</td>\n",
       "      <td>EX</td>\n",
       "      <td>CT</td>\n",
       "      <td>Remote</td>\n",
       "      <td>CN</td>\n",
       "      <td>L</td>\n",
       "    </tr>\n",
       "  </tbody>\n",
       "</table>\n",
       "<p>5000 rows × 12 columns</p>\n",
       "</div>"
      ],
      "text/plain": [
       "      work_year    salary  salary_in_usd  \\\n",
       "0        2022.0  186597.0       136086.0   \n",
       "1        2020.0  110630.0        67982.0   \n",
       "2        2022.0   61280.0       153309.0   \n",
       "3        2022.0  154130.0       135242.0   \n",
       "4        2020.0  172312.0        35156.0   \n",
       "...         ...       ...            ...   \n",
       "4995     2020.0  179769.0       179111.0   \n",
       "4996     2021.0  184642.0       196373.0   \n",
       "4997     2022.0  135319.0        51366.0   \n",
       "4998     2021.0   58037.0       181817.0   \n",
       "4999     2020.0  143565.0       172425.0   \n",
       "\n",
       "                                 job_title  job_category salary_currency  \\\n",
       "0     Machine Learning Engineer  in office      Analysis             EUR   \n",
       "1                   Statistician  (Remote)         ML/AI             JPY   \n",
       "2              Machine Learning Engineer           ML/AI             INR   \n",
       "3                  Data Analyst  in office         ML/AI             JPY   \n",
       "4                           Statistician    Data Science             EUR   \n",
       "...                                    ...           ...             ...   \n",
       "4995   Machine Learning Engineer  (Remote)  Data Science             EUR   \n",
       "4996   Machine Learning Engineer  (Remote)  Data Science             EUR   \n",
       "4997           Machine Learning Engineer        Analysis             GBP   \n",
       "4998                        Statistician    Data Science             EUR   \n",
       "4999              Data Scientist  (Remote)   Engineering             GBP   \n",
       "\n",
       "     employee_residence experience_level employment_type work_setting  \\\n",
       "0                    US               MI              CT       Remote   \n",
       "1                    JP               EX              FL       Remote   \n",
       "2                    UK               MI              CT       Hybrid   \n",
       "3                    DE               SE              FT       Hybrid   \n",
       "4                    UK               MI              FT    In-person   \n",
       "...                 ...              ...             ...          ...   \n",
       "4995                 UK               SE              CT    In-person   \n",
       "4996                 CN               SE              FL       Remote   \n",
       "4997                 UK               EN              FL       Hybrid   \n",
       "4998                 US               MI              PT       Remote   \n",
       "4999                 CN               EX              CT       Remote   \n",
       "\n",
       "     company_location company_size  \n",
       "0                  DE            L  \n",
       "1                  IN            M  \n",
       "2                  CN            L  \n",
       "3                  MX            L  \n",
       "4                  UK            S  \n",
       "...               ...          ...  \n",
       "4995               IN            S  \n",
       "4996               UK            S  \n",
       "4997               JP            M  \n",
       "4998               DE            S  \n",
       "4999               CN            L  \n",
       "\n",
       "[5000 rows x 12 columns]"
      ]
     },
     "execution_count": 10,
     "metadata": {},
     "output_type": "execute_result"
    }
   ],
   "source": [
    "dataset"
   ]
  },
  {
   "cell_type": "code",
   "execution_count": 11,
   "id": "50ab7ef6-ea43-4733-85f5-898b4501dd17",
   "metadata": {},
   "outputs": [],
   "source": [
    "#VIF"
   ]
  },
  {
   "cell_type": "code",
   "execution_count": 12,
   "id": "5f7af0d5",
   "metadata": {},
   "outputs": [],
   "source": [
    "import seaborn as sns"
   ]
  },
  {
   "cell_type": "code",
   "execution_count": 13,
   "id": "973c4c1c",
   "metadata": {
    "scrolled": true
   },
   "outputs": [
    {
     "data": {
      "text/plain": [
       "<seaborn.axisgrid.PairGrid at 0x23259815a20>"
      ]
     },
     "execution_count": 13,
     "metadata": {},
     "output_type": "execute_result"
    },
    {
     "data": {
      "image/png": "[encoded data removed]",
      "text/plain": [
       "<Figure size 750x750 with 12 Axes>"
      ]
     },
     "metadata": {},
     "output_type": "display_data"
    }
   ],
   "source": [
    "sns.pairplot(dataset)"
   ]
  },
  {
   "cell_type": "code",
   "execution_count": 14,
   "id": "41e063b5",
   "metadata": {},
   "outputs": [],
   "source": [
    "from statsmodels.stats.outliers_influence import variance_inflation_factor\n",
    "\n",
    "def calc_vif(X):\n",
    "\n",
    "    # Calculating VIF\n",
    "    vif = pd.DataFrame()\n",
    "    vif[\"variables\"] = X.columns\n",
    "    vif[\"VIF\"] = [variance_inflation_factor(X.values, i) for i in range(X.shape[1])]\n",
    "\n",
    "    return(vif)\n"
   ]
  },
  {
   "cell_type": "code",
   "execution_count": 15,
   "id": "fc4d649b",
   "metadata": {},
   "outputs": [
    {
     "data": {
      "text/html": [
       "<div>\n",
       "<style scoped>\n",
       "    .dataframe tbody tr th:only-of-type {\n",
       "        vertical-align: middle;\n",
       "    }\n",
       "\n",
       "    .dataframe tbody tr th {\n",
       "        vertical-align: top;\n",
       "    }\n",
       "\n",
       "    .dataframe thead th {\n",
       "        text-align: right;\n",
       "    }\n",
       "</style>\n",
       "<table border=\"1\" class=\"dataframe\">\n",
       "  <thead>\n",
       "    <tr style=\"text-align: right;\">\n",
       "      <th></th>\n",
       "      <th>variables</th>\n",
       "      <th>VIF</th>\n",
       "    </tr>\n",
       "  </thead>\n",
       "  <tbody>\n",
       "    <tr>\n",
       "      <th>0</th>\n",
       "      <td>salary_in_usd</td>\n",
       "      <td>6.396594</td>\n",
       "    </tr>\n",
       "    <tr>\n",
       "      <th>1</th>\n",
       "      <td>work_year</td>\n",
       "      <td>8.399575</td>\n",
       "    </tr>\n",
       "    <tr>\n",
       "      <th>2</th>\n",
       "      <td>salary</td>\n",
       "      <td>3.075162</td>\n",
       "    </tr>\n",
       "  </tbody>\n",
       "</table>\n",
       "</div>"
      ],
      "text/plain": [
       "       variables       VIF\n",
       "0  salary_in_usd  6.396594\n",
       "1      work_year  8.399575\n",
       "2         salary  3.075162"
      ]
     },
     "execution_count": 15,
     "metadata": {},
     "output_type": "execute_result"
    }
   ],
   "source": [
    "calc_vif(dataset[[\"salary_in_usd\",\"work_year\",\"salary\"]])"
   ]
  },
  {
   "cell_type": "code",
   "execution_count": 16,
   "id": "97703296-2870-4907-b097-2ca6b05a8431",
   "metadata": {
    "scrolled": true
   },
   "outputs": [
    {
     "data": {
      "text/html": [
       "<div>\n",
       "<style scoped>\n",
       "    .dataframe tbody tr th:only-of-type {\n",
       "        vertical-align: middle;\n",
       "    }\n",
       "\n",
       "    .dataframe tbody tr th {\n",
       "        vertical-align: top;\n",
       "    }\n",
       "\n",
       "    .dataframe thead th {\n",
       "        text-align: right;\n",
       "    }\n",
       "</style>\n",
       "<table border=\"1\" class=\"dataframe\">\n",
       "  <thead>\n",
       "    <tr style=\"text-align: right;\">\n",
       "      <th></th>\n",
       "      <th>variables</th>\n",
       "      <th>VIF</th>\n",
       "    </tr>\n",
       "  </thead>\n",
       "  <tbody>\n",
       "    <tr>\n",
       "      <th>0</th>\n",
       "      <td>salary_in_usd</td>\n",
       "      <td>2.341581</td>\n",
       "    </tr>\n",
       "    <tr>\n",
       "      <th>1</th>\n",
       "      <td>salary</td>\n",
       "      <td>2.341581</td>\n",
       "    </tr>\n",
       "  </tbody>\n",
       "</table>\n",
       "</div>"
      ],
      "text/plain": [
       "       variables       VIF\n",
       "0  salary_in_usd  2.341581\n",
       "1         salary  2.341581"
      ]
     },
     "execution_count": 16,
     "metadata": {},
     "output_type": "execute_result"
    }
   ],
   "source": [
    "calc_vif(dataset[[\"salary_in_usd\",\"salary\"]])"
   ]
  },
  {
   "cell_type": "code",
   "execution_count": 17,
   "id": "ff8d21d7-8666-4ef8-ae6f-a6a61a01127b",
   "metadata": {},
   "outputs": [],
   "source": [
    " #T test"
   ]
  },
  {
   "cell_type": "markdown",
   "id": "63b0f9ef",
   "metadata": {},
   "source": [
    "# Independant Sample- Unpaired T Test\n",
    "Diferrent Group(Analysis, Data Science but same contion(salary) "
   ]
  },
  {
   "cell_type": "code",
   "execution_count": 18,
   "id": "2af112b4",
   "metadata": {},
   "outputs": [
    {
     "data": {
      "text/plain": [
       "0       186597.0\n",
       "14       68769.0\n",
       "16      132885.0\n",
       "22       40910.0\n",
       "32       55407.0\n",
       "          ...   \n",
       "4978    165915.0\n",
       "4984    146726.0\n",
       "4992     37404.0\n",
       "4993     44674.0\n",
       "4997    135319.0\n",
       "Name: salary, Length: 1108, dtype: float64"
      ]
     },
     "execution_count": 18,
     "metadata": {},
     "output_type": "execute_result"
    }
   ],
   "source": [
    "dataset[dataset['job_category']=='Analysis'][\"salary\"]"
   ]
  },
  {
   "cell_type": "code",
   "execution_count": 19,
   "id": "3345dbe3",
   "metadata": {
    "scrolled": true
   },
   "outputs": [
    {
     "data": {
      "text/plain": [
       "TtestResult(statistic=10.946358629601844, pvalue=2.479606214249017e-27, df=2779.0)"
      ]
     },
     "execution_count": 19,
     "metadata": {},
     "output_type": "execute_result"
    }
   ],
   "source": [
    "from scipy.stats import ttest_ind\n",
    "dataset=dataset.dropna()\n",
    "Analysis = dataset[dataset['job_category']=='Analysis']['salary']\n",
    "DataScience = dataset[dataset['job_category']=='Data Science']['salary']\n",
    "#print(DataAnalystOffice)\n",
    "ttest_ind(Analysis, DataScience)"
   ]
  },
  {
   "cell_type": "markdown",
   "id": "18115fb9-63ef-4456-8055-9f400fefa1d7",
   "metadata": {},
   "source": [
    "Data Science professionals earn significantly higher salaries than Analysis professionals (p < 0.0001, t-statistic = 10.95)."
   ]
  },
  {
   "cell_type": "code",
   "execution_count": 20,
   "id": "5f1c4957-2a32-4e28-8f52-3e39a6291694",
   "metadata": {},
   "outputs": [],
   "source": [
    "#Diferrent Group(Engineering, ML/AI) but same contion(salary) "
   ]
  },
  {
   "cell_type": "code",
   "execution_count": 21,
   "id": "03c87b04-21cc-4ac2-9298-6e2b80b047b3",
   "metadata": {},
   "outputs": [
    {
     "data": {
      "text/plain": [
       "TtestResult(statistic=-0.5305417418889176, pvalue=0.5957895121733099, df=2217.0)"
      ]
     },
     "execution_count": 21,
     "metadata": {},
     "output_type": "execute_result"
    }
   ],
   "source": [
    "from scipy.stats import ttest_ind\n",
    "dataset=dataset.dropna()\n",
    "Engineering = dataset[dataset['job_category']=='Engineering']['salary']\n",
    "ML_AI = dataset[dataset['job_category']=='ML/AI']['salary']\n",
    "ttest_ind(Engineering, ML_AI)"
   ]
  },
  {
   "cell_type": "markdown",
   "id": "2859cd0e-f24c-4628-9ae0-b9fe714b5093",
   "metadata": {},
   "source": [
    "There is no statistically significant difference in salaries between Engineering and ML/AI professionals (p = 0.5958)."
   ]
  },
  {
   "cell_type": "code",
   "execution_count": 22,
   "id": "5a93ab6d-98d5-454d-b775-414f13371bb1",
   "metadata": {},
   "outputs": [],
   "source": [
    "#Diferrent Group(Engineering, Analysis) but same contion(salary_in_usd) "
   ]
  },
  {
   "cell_type": "code",
   "execution_count": 23,
   "id": "5de550a7-f04f-41a7-931b-89e700723941",
   "metadata": {},
   "outputs": [
    {
     "data": {
      "text/plain": [
       "TtestResult(statistic=-0.10437618953915473, pvalue=0.9168804454723688, df=2174.0)"
      ]
     },
     "execution_count": 23,
     "metadata": {},
     "output_type": "execute_result"
    }
   ],
   "source": [
    "from scipy.stats import ttest_ind\n",
    "dataset=dataset.dropna()\n",
    "Engineering = dataset[dataset['job_category']=='Engineering']['salary_in_usd']\n",
    "Analysis = dataset[dataset['job_category']=='Analysis']['salary_in_usd']\n",
    "ttest_ind(Engineering, Analysis)"
   ]
  },
  {
   "cell_type": "markdown",
   "id": "aefebd97-4380-414e-ab30-c210f2c78bf4",
   "metadata": {},
   "source": [
    "Engineering and Analysis professionals have statistically equivalent salaries (p = 0.9169)."
   ]
  },
  {
   "cell_type": "code",
   "execution_count": null,
   "id": "38e8c03c-066e-45ba-9196-ddecda5fee01",
   "metadata": {},
   "outputs": [],
   "source": []
  },
  {
   "cell_type": "markdown",
   "id": "8a0fdcde",
   "metadata": {},
   "source": [
    "#### Dependant Sample-Paired T_Test\n",
    "Same Group(Engineering) but Different Condition(salary,salary_in_usd)"
   ]
  },
  {
   "cell_type": "code",
   "execution_count": 24,
   "id": "88ca6974",
   "metadata": {},
   "outputs": [
    {
     "data": {
      "text/plain": [
       "TtestResult(statistic=0.43338699841583744, pvalue=0.6648212432987688, df=1067)"
      ]
     },
     "execution_count": 24,
     "metadata": {},
     "output_type": "execute_result"
    }
   ],
   "source": [
    "from scipy.stats import ttest_rel\n",
    "#dataset=dataset.dropna()\n",
    "Engineering = dataset[dataset['job_category']=='Engineering']['salary']\n",
    "Engineering1 = dataset[dataset['job_category']=='Engineering']['salary_in_usd']\n",
    "ttest_rel(Engineering, Engineering1)"
   ]
  },
  {
   "cell_type": "markdown",
   "id": "9a541281-0e86-4463-bd1c-5b9feea0b245",
   "metadata": {},
   "source": [
    "Engineering professionals' salaries show no significant difference in reported values (p = 0.6648)."
   ]
  },
  {
   "cell_type": "code",
   "execution_count": 25,
   "id": "abfe7410-54c4-4582-900c-6fef25d7979a",
   "metadata": {},
   "outputs": [],
   "source": [
    "#Same Group(Analysis) but Different Condition(salary_in_usd,salary)"
   ]
  },
  {
   "cell_type": "code",
   "execution_count": 26,
   "id": "41371b81-0427-495b-af92-ed614b485588",
   "metadata": {},
   "outputs": [
    {
     "data": {
      "text/plain": [
       "TtestResult(statistic=0.772079316607875, pvalue=0.44023224250285586, df=1107)"
      ]
     },
     "execution_count": 26,
     "metadata": {},
     "output_type": "execute_result"
    }
   ],
   "source": [
    "from scipy.stats import ttest_rel\n",
    "#dataset=dataset.dropna()\n",
    "Analysis = dataset[dataset['job_category']=='Analysis']['salary_in_usd']\n",
    "Analysis1 = dataset[dataset['job_category']=='Analysis']['salary']\n",
    "ttest_rel(Analysis, Analysis1)"
   ]
  },
  {
   "cell_type": "markdown",
   "id": "871496e2-0ebf-4b43-a039-fcf92c90a7f7",
   "metadata": {},
   "source": [
    "There is no significant difference between the 'salary' and 'salary_in_usd' values for Analysis professionals (p = 0.44)."
   ]
  },
  {
   "cell_type": "code",
   "execution_count": 27,
   "id": "3ef13341-b2bd-47d5-8bbc-de103e4c79ce",
   "metadata": {},
   "outputs": [],
   "source": [
    "#Same Group(ML/AI) but Different Condition(salary_in_usd,salary )"
   ]
  },
  {
   "cell_type": "code",
   "execution_count": 28,
   "id": "d8bc9985-9c78-42e8-bdfd-03fa0dc08439",
   "metadata": {},
   "outputs": [
    {
     "data": {
      "text/plain": [
       "TtestResult(statistic=-0.8930818622567324, pvalue=0.3720001809721679, df=1150)"
      ]
     },
     "execution_count": 28,
     "metadata": {},
     "output_type": "execute_result"
    }
   ],
   "source": [
    "from scipy.stats import ttest_rel\n",
    "#dataset=dataset.dropna()\n",
    "male = dataset[dataset['job_category']=='ML/AI']['salary_in_usd']\n",
    "male1 = dataset[dataset['job_category']=='ML/AI']['salary']\n",
    "ttest_rel(male, male1)"
   ]
  },
  {
   "cell_type": "markdown",
   "id": "bf7af60c-588d-47e4-9bdd-2d81fb7857a1",
   "metadata": {},
   "source": [
    "There is no significant difference between the reported 'salary' and 'salary_in_usd' values for ML/AI professionals (p = 0.372)."
   ]
  },
  {
   "cell_type": "code",
   "execution_count": 29,
   "id": "36d42872",
   "metadata": {},
   "outputs": [],
   "source": [
    "# Hypothesis Testing"
   ]
  },
  {
   "cell_type": "code",
   "execution_count": 32,
   "id": "5cbaa52f",
   "metadata": {},
   "outputs": [
    {
     "data": {
      "text/plain": [
       "TtestResult(statistic=0.772079316607875, pvalue=0.44023224250285586, df=1107)"
      ]
     },
     "execution_count": 32,
     "metadata": {},
     "output_type": "execute_result"
    }
   ],
   "source": [
    "from scipy.stats import ttest_rel\n",
    "#dataset=dataset.dropna()\n",
    "male = dataset[dataset['job_category']=='Analysis']['salary_in_usd']\n",
    "male1 = dataset[dataset['job_category']=='Analysis']['salary']\n",
    "ttest_rel(male, male1)"
   ]
  },
  {
   "cell_type": "markdown",
   "id": "938c08a4-e046-483d-8b1c-336b8451c932",
   "metadata": {},
   "source": [
    "The null hypothesis that Analysis professionals' 'salary' and 'salary_in_usd' values are equal cannot be rejected (p = 0.44)."
   ]
  },
  {
   "cell_type": "code",
   "execution_count": 33,
   "id": "b7650680-8d35-4494-992f-46dd5fd6bda5",
   "metadata": {},
   "outputs": [],
   "source": [
    "# Reject Null hypothesis p<0.05\n",
    "# Accept Null Hypothesi and Reject Alternate hypothsis"
   ]
  },
  {
   "cell_type": "markdown",
   "id": "f2e4f49d",
   "metadata": {},
   "source": [
    "# ANAVO : Analysis of Variance "
   ]
  },
  {
   "cell_type": "code",
   "execution_count": 34,
   "id": "0d944f48",
   "metadata": {
    "scrolled": true
   },
   "outputs": [
    {
     "data": {
      "text/plain": [
       "F_onewayResult(statistic=97.36923446544057, pvalue=7.31652738880516e-23)"
      ]
     },
     "execution_count": 34,
     "metadata": {},
     "output_type": "execute_result"
    }
   ],
   "source": [
    "#one-way ANOVA Code:\n",
    "\n",
    "import scipy.stats as stats\n",
    "\n",
    "stats.f_oneway(dataset['salary_in_usd'],dataset['salary'])"
   ]
  },
  {
   "cell_type": "markdown",
   "id": "e650da76-0be0-42c3-8e11-b23163e2502a",
   "metadata": {},
   "source": [
    "\n",
    "The one-way ANOVA test reveals a statistically significant difference between 'salary_in_usd' and 'salary' (F=97.37, p<2.8e-23).\n",
    "\n",
    "This result indicates:\n",
    "\n",
    "1. Rejection of the null hypothesis: The mean values of 'salary_in_usd' and 'salary' are significantly different.\n",
    "\n",
    "2. Strong evidence: The observed difference is highly unlikely to be due to chance, suggesting a systematic difference in salary reporting.\n",
    "\n",
    "Note: The extremely low p-value (p<2.8e-23) far surpasses the typical significance threshold of 0.05."
   ]
  },
  {
   "cell_type": "code",
   "execution_count": null,
   "id": "48928fd4-01a2-40c6-a019-9e1b3c2dd3c9",
   "metadata": {},
   "outputs": [],
   "source": [
    "# Two-way ANOVA for Salary"
   ]
  },
  {
   "cell_type": "code",
   "execution_count": 37,
   "id": "c5630c9b-b218-4384-82e8-b68e78f04e6b",
   "metadata": {
    "scrolled": true
   },
   "outputs": [
    {
     "name": "stdout",
     "output_type": "stream",
     "text": [
      "Salary Two-way ANOVA:\n",
      "                           sum_sq      df         F    PR(>F)\n",
      "C(salary_in_usd)     2.315082e+13  4926.0  0.664244  0.995681\n",
      "C(experience_level)  1.676613e+10     3.0  0.789891  0.503586\n",
      "Residual             4.952702e+11    70.0       NaN       NaN\n",
      "\n",
      "Salary in USD Two-way ANOVA:\n",
      "                             sum_sq      df         F    PR(>F)\n",
      "C(experience_level)    2.667976e+09     3.0  0.368611  0.775669\n",
      "C(employee_residence)  1.664599e+10     6.0  1.149915  0.330431\n",
      "Residual               1.203907e+13  4990.0       NaN       NaN\n"
     ]
    }
   ],
   "source": [
    "import statsmodels.api as sm\n",
    "from statsmodels.formula.api import ols\n",
    "\n",
    "# Two-way ANOVA for Salary\n",
    "model_salary = ols('salary ~ C(salary_in_usd) + C(experience_level)', data=dataset).fit()\n",
    "anova_salary = sm.stats.anova_lm(model_salary, typ=2)\n",
    "\n",
    "# Two-way ANOVA for Salary in USD\n",
    "model_salary_usd = ols('salary_in_usd ~ C(experience_level) + C(employee_residence)', data=dataset).fit()\n",
    "anova_salary_usd = sm.stats.anova_lm(model_salary_usd, typ=2)\n",
    "\n",
    "print(\"Salary Two-way ANOVA:\")\n",
    "print(anova_salary)\n",
    "print(\"\\nSalary in USD Two-way ANOVA:\")\n",
    "print(anova_salary_usd)"
   ]
  },
  {
   "cell_type": "markdown",
   "id": "a82a59a5-a086-422c-8e95-0bf8aa07ab04",
   "metadata": {},
   "source": [
    "Two-way ANOVA analysis reveals:\n",
    "\n",
    "Salary Model:\n",
    "\n",
    "1 No significant effect of 'salary_in_usd' (p = 0.996) or 'experience_level' (p = 0.504) on 'salary'.\n",
    "\n",
    "Salary in USD Model:\n",
    "\n",
    "2 No significant effect of 'experience_level' (p = 0.776) or 'employee_residence' (p = 0.330) on 'salary_in_usd'.\n",
    "\n",
    "Overall, the two-way ANOVA analysis suggests no statistically significant "
   ]
  },
  {
   "cell_type": "code",
   "execution_count": null,
   "id": "5aee2e64-6390-4b58-a584-4cad7c7e51e3",
   "metadata": {},
   "outputs": [],
   "source": []
  }
 ],
 "metadata": {
  "kernelspec": {
   "display_name": "Python 3 (ipykernel)",
   "language": "python",
   "name": "python3"
  },
  "language_info": {
   "codemirror_mode": {
    "name": "ipython",
    "version": 3
   },
   "file_extension": ".py",
   "mimetype": "text/x-python",
   "name": "python",
   "nbconvert_exporter": "python",
   "pygments_lexer": "ipython3",
   "version": "3.10.14"
  }
 },
 "nbformat": 4,
 "nbformat_minor": 5
}
