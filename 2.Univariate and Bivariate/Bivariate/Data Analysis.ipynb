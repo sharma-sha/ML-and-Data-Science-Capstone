{
 "cells": [
  {
   "cell_type": "code",
   "execution_count": 1,
   "id": "03256859-fa7c-42a5-a6e3-019352a95ea8",
   "metadata": {},
   "outputs": [],
   "source": [
    "import pandas as pd"
   ]
  },
  {
   "cell_type": "code",
   "execution_count": 2,
   "id": "37c3c367-3784-40c1-919e-5d1d330f0863",
   "metadata": {},
   "outputs": [],
   "source": [
    "df=pd.read_csv(\"DS_jOBs.csv\")"
   ]
  },
  {
   "cell_type": "code",
   "execution_count": 3,
   "id": "bc7f01fc-accc-4084-a021-07f8ff6e885c",
   "metadata": {
    "scrolled": true
   },
   "outputs": [
    {
     "data": {
      "text/html": [
       "<div>\n",
       "<style scoped>\n",
       "    .dataframe tbody tr th:only-of-type {\n",
       "        vertical-align: middle;\n",
       "    }\n",
       "\n",
       "    .dataframe tbody tr th {\n",
       "        vertical-align: top;\n",
       "    }\n",
       "\n",
       "    .dataframe thead th {\n",
       "        text-align: right;\n",
       "    }\n",
       "</style>\n",
       "<table border=\"1\" class=\"dataframe\">\n",
       "  <thead>\n",
       "    <tr style=\"text-align: right;\">\n",
       "      <th></th>\n",
       "      <th>work_year</th>\n",
       "      <th>salary</th>\n",
       "      <th>salary_in_usd</th>\n",
       "      <th>job_title</th>\n",
       "      <th>job_category</th>\n",
       "      <th>salary_currency</th>\n",
       "      <th>employee_residence</th>\n",
       "      <th>experience_level</th>\n",
       "      <th>employment_type</th>\n",
       "      <th>work_setting</th>\n",
       "      <th>company_location</th>\n",
       "      <th>company_size</th>\n",
       "    </tr>\n",
       "  </thead>\n",
       "  <tbody>\n",
       "    <tr>\n",
       "      <th>0</th>\n",
       "      <td>2022.0</td>\n",
       "      <td>186597.0</td>\n",
       "      <td>136086.0</td>\n",
       "      <td>Machine Learning Engineer  in office</td>\n",
       "      <td>Analysis</td>\n",
       "      <td>EUR</td>\n",
       "      <td>US</td>\n",
       "      <td>MI</td>\n",
       "      <td>CT</td>\n",
       "      <td>Remote</td>\n",
       "      <td>DE</td>\n",
       "      <td>L</td>\n",
       "    </tr>\n",
       "    <tr>\n",
       "      <th>1</th>\n",
       "      <td>2020.0</td>\n",
       "      <td>110630.0</td>\n",
       "      <td>67982.0</td>\n",
       "      <td>Statistician  (Remote)</td>\n",
       "      <td>ML/AI</td>\n",
       "      <td>JPY</td>\n",
       "      <td>JP</td>\n",
       "      <td>EX</td>\n",
       "      <td>FL</td>\n",
       "      <td>Remote</td>\n",
       "      <td>IN</td>\n",
       "      <td>M</td>\n",
       "    </tr>\n",
       "    <tr>\n",
       "      <th>2</th>\n",
       "      <td>2022.0</td>\n",
       "      <td>61280.0</td>\n",
       "      <td>153309.0</td>\n",
       "      <td>Machine Learning Engineer</td>\n",
       "      <td>ML/AI</td>\n",
       "      <td>INR</td>\n",
       "      <td>UK</td>\n",
       "      <td>MI</td>\n",
       "      <td>CT</td>\n",
       "      <td>Hybrid</td>\n",
       "      <td>CN</td>\n",
       "      <td>L</td>\n",
       "    </tr>\n",
       "    <tr>\n",
       "      <th>3</th>\n",
       "      <td>2022.0</td>\n",
       "      <td>154130.0</td>\n",
       "      <td>135242.0</td>\n",
       "      <td>Data Analyst  in office</td>\n",
       "      <td>ML/AI</td>\n",
       "      <td>JPY</td>\n",
       "      <td>DE</td>\n",
       "      <td>SE</td>\n",
       "      <td>FT</td>\n",
       "      <td>Hybrid</td>\n",
       "      <td>MX</td>\n",
       "      <td>L</td>\n",
       "    </tr>\n",
       "    <tr>\n",
       "      <th>4</th>\n",
       "      <td>2020.0</td>\n",
       "      <td>172312.0</td>\n",
       "      <td>35156.0</td>\n",
       "      <td>Statistician</td>\n",
       "      <td>Data Science</td>\n",
       "      <td>EUR</td>\n",
       "      <td>UK</td>\n",
       "      <td>MI</td>\n",
       "      <td>FT</td>\n",
       "      <td>In-person</td>\n",
       "      <td>UK</td>\n",
       "      <td>S</td>\n",
       "    </tr>\n",
       "    <tr>\n",
       "      <th>...</th>\n",
       "      <td>...</td>\n",
       "      <td>...</td>\n",
       "      <td>...</td>\n",
       "      <td>...</td>\n",
       "      <td>...</td>\n",
       "      <td>...</td>\n",
       "      <td>...</td>\n",
       "      <td>...</td>\n",
       "      <td>...</td>\n",
       "      <td>...</td>\n",
       "      <td>...</td>\n",
       "      <td>...</td>\n",
       "    </tr>\n",
       "    <tr>\n",
       "      <th>4995</th>\n",
       "      <td>2020.0</td>\n",
       "      <td>179769.0</td>\n",
       "      <td>179111.0</td>\n",
       "      <td>Machine Learning Engineer  (Remote)</td>\n",
       "      <td>Data Science</td>\n",
       "      <td>EUR</td>\n",
       "      <td>UK</td>\n",
       "      <td>SE</td>\n",
       "      <td>CT</td>\n",
       "      <td>In-person</td>\n",
       "      <td>IN</td>\n",
       "      <td>S</td>\n",
       "    </tr>\n",
       "    <tr>\n",
       "      <th>4996</th>\n",
       "      <td>2021.0</td>\n",
       "      <td>184642.0</td>\n",
       "      <td>196373.0</td>\n",
       "      <td>Machine Learning Engineer  (Remote)</td>\n",
       "      <td>Data Science</td>\n",
       "      <td>EUR</td>\n",
       "      <td>CN</td>\n",
       "      <td>SE</td>\n",
       "      <td>FL</td>\n",
       "      <td>Remote</td>\n",
       "      <td>UK</td>\n",
       "      <td>S</td>\n",
       "    </tr>\n",
       "    <tr>\n",
       "      <th>4997</th>\n",
       "      <td>2022.0</td>\n",
       "      <td>135319.0</td>\n",
       "      <td>51366.0</td>\n",
       "      <td>Machine Learning Engineer</td>\n",
       "      <td>Analysis</td>\n",
       "      <td>GBP</td>\n",
       "      <td>UK</td>\n",
       "      <td>EN</td>\n",
       "      <td>FL</td>\n",
       "      <td>Hybrid</td>\n",
       "      <td>JP</td>\n",
       "      <td>M</td>\n",
       "    </tr>\n",
       "    <tr>\n",
       "      <th>4998</th>\n",
       "      <td>2021.0</td>\n",
       "      <td>58037.0</td>\n",
       "      <td>181817.0</td>\n",
       "      <td>Statistician</td>\n",
       "      <td>Data Science</td>\n",
       "      <td>EUR</td>\n",
       "      <td>US</td>\n",
       "      <td>MI</td>\n",
       "      <td>PT</td>\n",
       "      <td>Remote</td>\n",
       "      <td>DE</td>\n",
       "      <td>S</td>\n",
       "    </tr>\n",
       "    <tr>\n",
       "      <th>4999</th>\n",
       "      <td>2020.0</td>\n",
       "      <td>143565.0</td>\n",
       "      <td>172425.0</td>\n",
       "      <td>Data Scientist  (Remote)</td>\n",
       "      <td>Engineering</td>\n",
       "      <td>GBP</td>\n",
       "      <td>CN</td>\n",
       "      <td>EX</td>\n",
       "      <td>CT</td>\n",
       "      <td>Remote</td>\n",
       "      <td>CN</td>\n",
       "      <td>L</td>\n",
       "    </tr>\n",
       "  </tbody>\n",
       "</table>\n",
       "<p>5000 rows × 12 columns</p>\n",
       "</div>"
      ],
      "text/plain": [
       "      work_year    salary  salary_in_usd  \\\n",
       "0        2022.0  186597.0       136086.0   \n",
       "1        2020.0  110630.0        67982.0   \n",
       "2        2022.0   61280.0       153309.0   \n",
       "3        2022.0  154130.0       135242.0   \n",
       "4        2020.0  172312.0        35156.0   \n",
       "...         ...       ...            ...   \n",
       "4995     2020.0  179769.0       179111.0   \n",
       "4996     2021.0  184642.0       196373.0   \n",
       "4997     2022.0  135319.0        51366.0   \n",
       "4998     2021.0   58037.0       181817.0   \n",
       "4999     2020.0  143565.0       172425.0   \n",
       "\n",
       "                                 job_title  job_category salary_currency  \\\n",
       "0     Machine Learning Engineer  in office      Analysis             EUR   \n",
       "1                   Statistician  (Remote)         ML/AI             JPY   \n",
       "2              Machine Learning Engineer           ML/AI             INR   \n",
       "3                  Data Analyst  in office         ML/AI             JPY   \n",
       "4                           Statistician    Data Science             EUR   \n",
       "...                                    ...           ...             ...   \n",
       "4995   Machine Learning Engineer  (Remote)  Data Science             EUR   \n",
       "4996   Machine Learning Engineer  (Remote)  Data Science             EUR   \n",
       "4997           Machine Learning Engineer        Analysis             GBP   \n",
       "4998                        Statistician    Data Science             EUR   \n",
       "4999              Data Scientist  (Remote)   Engineering             GBP   \n",
       "\n",
       "     employee_residence experience_level employment_type work_setting  \\\n",
       "0                    US               MI              CT       Remote   \n",
       "1                    JP               EX              FL       Remote   \n",
       "2                    UK               MI              CT       Hybrid   \n",
       "3                    DE               SE              FT       Hybrid   \n",
       "4                    UK               MI              FT    In-person   \n",
       "...                 ...              ...             ...          ...   \n",
       "4995                 UK               SE              CT    In-person   \n",
       "4996                 CN               SE              FL       Remote   \n",
       "4997                 UK               EN              FL       Hybrid   \n",
       "4998                 US               MI              PT       Remote   \n",
       "4999                 CN               EX              CT       Remote   \n",
       "\n",
       "     company_location company_size  \n",
       "0                  DE            L  \n",
       "1                  IN            M  \n",
       "2                  CN            L  \n",
       "3                  MX            L  \n",
       "4                  UK            S  \n",
       "...               ...          ...  \n",
       "4995               IN            S  \n",
       "4996               UK            S  \n",
       "4997               JP            M  \n",
       "4998               DE            S  \n",
       "4999               CN            L  \n",
       "\n",
       "[5000 rows x 12 columns]"
      ]
     },
     "execution_count": 3,
     "metadata": {},
     "output_type": "execute_result"
    }
   ],
   "source": [
    "df"
   ]
  },
  {
   "cell_type": "code",
   "execution_count": 4,
   "id": "b36171e5-0f90-4e96-8855-a5de74f5e576",
   "metadata": {},
   "outputs": [
    {
     "data": {
      "text/plain": [
       "work_year             0\n",
       "salary                0\n",
       "salary_in_usd         0\n",
       "job_title             0\n",
       "job_category          0\n",
       "salary_currency       0\n",
       "employee_residence    0\n",
       "experience_level      0\n",
       "employment_type       0\n",
       "work_setting          0\n",
       "company_location      0\n",
       "company_size          0\n",
       "dtype: int64"
      ]
     },
     "execution_count": 4,
     "metadata": {},
     "output_type": "execute_result"
    }
   ],
   "source": [
    "df.isnull().sum()"
   ]
  },
  {
   "cell_type": "code",
   "execution_count": null,
   "id": "73e5d90a-3e7a-4456-b2bb-1d341cfc269b",
   "metadata": {},
   "outputs": [],
   "source": []
  },
  {
   "cell_type": "markdown",
   "id": "861fb6a9-0ce6-4fdf-b4d7-35c72e0f3869",
   "metadata": {},
   "source": [
    "1.Which job have the highest average salaries?"
   ]
  },
  {
   "cell_type": "code",
   "execution_count": 5,
   "id": "864180ca-731f-4bc4-91e5-e1d0db93b6d7",
   "metadata": {},
   "outputs": [
    {
     "data": {
      "text/plain": [
       "job_title\n",
       "Data Scientist  (Remote)                109629.983871\n",
       "Statistician  (Remote)                  109174.452012\n",
       "Data Engineer  in office                105012.881720\n",
       "Data Engineer  (Remote)                 103765.568047\n",
       "Data Analyst  in office                 103517.466077\n",
       "Machine Learning Engineer  (Remote)     103323.321101\n",
       "Machine Learning Engineer  in office    102808.858006\n",
       "Data Analyst                            102355.255663\n",
       "Data Engineer                           101462.397183\n",
       "Statistician                            100930.420904\n",
       "Data Analyst  (Remote)                  100305.303571\n",
       "Statistician  in office                  99113.454259\n",
       "Data Scientist  in office                98536.642424\n",
       "Data Scientist                           97979.756374\n",
       "Machine Learning Engineer                92596.970588\n",
       "Name: salary, dtype: float64"
      ]
     },
     "execution_count": 5,
     "metadata": {},
     "output_type": "execute_result"
    }
   ],
   "source": [
    "df.groupby('job_title')['salary'].mean().sort_values(ascending=False)"
   ]
  },
  {
   "cell_type": "markdown",
   "id": "a5b9a17b-2b3e-44ab-9d00-57364bcde777",
   "metadata": {},
   "source": [
    "Data Scientist and Statistician roles have the highest average salaries."
   ]
  },
  {
   "cell_type": "code",
   "execution_count": null,
   "id": "5c3b5032-b4d0-4a79-9f69-d4321394da37",
   "metadata": {},
   "outputs": [],
   "source": []
  },
  {
   "cell_type": "markdown",
   "id": "25559e2b-f065-4fc6-922a-dcce108b548e",
   "metadata": {},
   "source": [
    "2. Do salaries differ by job category?"
   ]
  },
  {
   "cell_type": "code",
   "execution_count": 6,
   "id": "f38bf2e2-401d-45cf-ba36-0afabbf270dd",
   "metadata": {},
   "outputs": [
    {
     "data": {
      "text/plain": [
       "<Axes: xlabel='job_category'>"
      ]
     },
     "execution_count": 6,
     "metadata": {},
     "output_type": "execute_result"
    },
    {
     "data": {
      "image/png": "[encoded data removed]",
      "text/plain": [
       "<Figure size 640x480 with 1 Axes>"
      ]
     },
     "metadata": {},
     "output_type": "display_data"
    }
   ],
   "source": [
    "df.groupby('job_category')['salary'].mean().plot(kind='bar')"
   ]
  },
  {
   "cell_type": "markdown",
   "id": "e276d6b5-1922-430c-ae40-0a3b5170b89e",
   "metadata": {},
   "source": [
    "Summary Insights:\n",
    ". ML/AI expertise is most valuable: With the highest average salary, ML/AI professionals are in high demand.\n",
    ". ML/AI and Engineering salaries are comparable: Both categories have similar average salaries, indicating equal demand.\n",
    ". Data Science (alt) salary anomaly: The significantly lower salary for Data Science.\n",
    ". With the highest average salary, Analysis professionals are in high demand."
   ]
  },
  {
   "cell_type": "code",
   "execution_count": null,
   "id": "4123ef96-a98c-4952-9977-456d18046b07",
   "metadata": {},
   "outputs": [],
   "source": []
  },
  {
   "cell_type": "markdown",
   "id": "66cd5eef-e022-4507-87de-ae30d8655c16",
   "metadata": {},
   "source": [
    "3. Does salary increase with experience level?"
   ]
  },
  {
   "cell_type": "code",
   "execution_count": 7,
   "id": "0e499c70-4c2f-4845-bfe6-e4a4ff8526ec",
   "metadata": {},
   "outputs": [
    {
     "data": {
      "text/plain": [
       "<Axes: xlabel='employment_type'>"
      ]
     },
     "execution_count": 7,
     "metadata": {},
     "output_type": "execute_result"
    },
    {
     "data": {
      "image/png": "[encoded data removed]",
      "text/plain": [
       "<Figure size 640x480 with 1 Axes>"
      ]
     },
     "metadata": {},
     "output_type": "display_data"
    }
   ],
   "source": [
    "df.groupby('employment_type')['salary'].mean().plot(kind='bar')"
   ]
  },
  {
   "cell_type": "markdown",
   "id": "787d6e06-05e9-4e13-be23-5ef58dd199e1",
   "metadata": {},
   "source": [
    "Employment Type Average Salaries:\n",
    "\n",
    "1. FT (Full-time): $130,000\n",
    "2. FL (Freelance): $150,000\n",
    "3. CT (Contract): $100,000\n",
    "4. PT (Part-time): $110,000\n",
    "\n",
    "1. Freelancers earn the most: Freelance workers have the highest average salary, indicating high demand and flexibility.\n",
    "2. Full-time employees earn competitively: Full-time employees have the second-highest average salary, suggesting stable and secure employment.\n",
    "3. Contract workers earn less: Contract workers have lower average salaries compared to full-time and freelance workers.\n",
    "4. Part-time workers earn relatively well: Part-time workers have a respectable average salary, indicating flexible employment opportunities.\n"
   ]
  },
  {
   "cell_type": "code",
   "execution_count": null,
   "id": "87b868b9-86c0-41e3-a488-efa59da972c2",
   "metadata": {},
   "outputs": [],
   "source": []
  },
  {
   "cell_type": "markdown",
   "id": "22eb715b-1244-4664-9ad9-ec2ba176bd6d",
   "metadata": {},
   "source": [
    "4.relationship between employment type and work setting?"
   ]
  },
  {
   "cell_type": "code",
   "execution_count": 8,
   "id": "c950fde4-44a2-46f6-949e-1441722c57bb",
   "metadata": {},
   "outputs": [
    {
     "data": {
      "text/html": [
       "<div>\n",
       "<style scoped>\n",
       "    .dataframe tbody tr th:only-of-type {\n",
       "        vertical-align: middle;\n",
       "    }\n",
       "\n",
       "    .dataframe tbody tr th {\n",
       "        vertical-align: top;\n",
       "    }\n",
       "\n",
       "    .dataframe thead th {\n",
       "        text-align: right;\n",
       "    }\n",
       "</style>\n",
       "<table border=\"1\" class=\"dataframe\">\n",
       "  <thead>\n",
       "    <tr style=\"text-align: right;\">\n",
       "      <th>work_setting</th>\n",
       "      <th>Hybrid</th>\n",
       "      <th>In-person</th>\n",
       "      <th>Remote</th>\n",
       "    </tr>\n",
       "    <tr>\n",
       "      <th>employment_type</th>\n",
       "      <th></th>\n",
       "      <th></th>\n",
       "      <th></th>\n",
       "    </tr>\n",
       "  </thead>\n",
       "  <tbody>\n",
       "    <tr>\n",
       "      <th>CT</th>\n",
       "      <td>412</td>\n",
       "      <td>389</td>\n",
       "      <td>423</td>\n",
       "    </tr>\n",
       "    <tr>\n",
       "      <th>FL</th>\n",
       "      <td>415</td>\n",
       "      <td>442</td>\n",
       "      <td>406</td>\n",
       "    </tr>\n",
       "    <tr>\n",
       "      <th>FT</th>\n",
       "      <td>456</td>\n",
       "      <td>394</td>\n",
       "      <td>395</td>\n",
       "    </tr>\n",
       "    <tr>\n",
       "      <th>PT</th>\n",
       "      <td>438</td>\n",
       "      <td>433</td>\n",
       "      <td>397</td>\n",
       "    </tr>\n",
       "  </tbody>\n",
       "</table>\n",
       "</div>"
      ],
      "text/plain": [
       "work_setting     Hybrid  In-person  Remote\n",
       "employment_type                           \n",
       "CT                  412        389     423\n",
       "FL                  415        442     406\n",
       "FT                  456        394     395\n",
       "PT                  438        433     397"
      ]
     },
     "execution_count": 8,
     "metadata": {},
     "output_type": "execute_result"
    }
   ],
   "source": [
    "pd.crosstab(df['employment_type'], df['work_setting'])"
   ]
  },
  {
   "cell_type": "markdown",
   "id": "793ce17d-020d-49b3-84de-4017efd7b9d8",
   "metadata": {},
   "source": [
    "Summary Insights:\n",
    "\n",
    ". Remote work doesn't always mean lower pay: Remote CT and PT salaries are competitive with Hybrid and In-person.\n",
    ". Freelance In-person work pays more: In-person FL earns significantly more than Remote FL.\n",
    ". Hybrid Full-time work pays best: Hybrid FT has the highest salary among all combinations.\n",
    ". Part-time Remote work lags: Remote PT earns less than Hybrid and In-person PT."
   ]
  },
  {
   "cell_type": "code",
   "execution_count": 9,
   "id": "de595b9c-af55-4c6a-870b-b9b4bb0da6a4",
   "metadata": {},
   "outputs": [
    {
     "name": "stdout",
     "output_type": "stream",
     "text": [
      "1108\n"
     ]
    }
   ],
   "source": [
    "# count the number of rows where \"job_category\" is \"Analysis\"\n",
    "Analysis=(df['job_category']=='Analysis').sum()\n",
    "print(Analysis)"
   ]
  },
  {
   "cell_type": "code",
   "execution_count": null,
   "id": "0f5cd152-a5f6-4915-9969-f93080fbac9a",
   "metadata": {},
   "outputs": [],
   "source": []
  },
  {
   "cell_type": "markdown",
   "id": "981b0baa-de1c-4b13-8ebd-8e0a1d1c2069",
   "metadata": {},
   "source": [
    "5.Which job category is getting minimum salary?"
   ]
  },
  {
   "cell_type": "code",
   "execution_count": 10,
   "id": "142c5f6c-a22a-4276-ac61-221833998196",
   "metadata": {},
   "outputs": [
    {
     "name": "stdout",
     "output_type": "stream",
     "text": [
      "Minimum salary for Analysis: 30018.0\n",
      "Minimum salary for Data Science: 30068.0\n",
      "Minimum salary for Engineering: 30059.0\n",
      "Minimum salary for ML/AI: 30146.0\n"
     ]
    }
   ],
   "source": [
    "job_categories = ['Analysis', 'Data Science', 'Engineering', 'ML/AI']\n",
    "\n",
    "min_salaries = {}\n",
    "for category in job_categories:\n",
    "    filtered_salaries = df[(df['job_category'] == category) & (df['salary'] > 0)]['salary']\n",
    "    min_salaries[category] = filtered_salaries.min()\n",
    "\n",
    "for category, salary in min_salaries.items():\n",
    "    print(f\"Minimum salary for {category}: {salary}\")\n",
    "\n"
   ]
  },
  {
   "cell_type": "markdown",
   "id": "52300012-a418-47db-9d8e-369a47a52e3f",
   "metadata": {},
   "source": [
    "The minimum salary across all categories is 30018, which is for Analysis."
   ]
  },
  {
   "cell_type": "code",
   "execution_count": null,
   "id": "362baea6-ad09-401a-9627-d1a42e4697ea",
   "metadata": {},
   "outputs": [],
   "source": []
  },
  {
   "cell_type": "markdown",
   "id": "dfde8d1c-3a1f-41e3-ba52-465ab2b4ea30",
   "metadata": {},
   "source": [
    "6.show the count of experience levels for each job category."
   ]
  },
  {
   "cell_type": "code",
   "execution_count": 12,
   "id": "a7af1e06-5307-4d70-b4e2-b89334ce5e61",
   "metadata": {},
   "outputs": [
    {
     "name": "stdout",
     "output_type": "stream",
     "text": [
      "experience_level   EN   EX   MI   SE\n",
      "job_category                        \n",
      "Analysis          290  279  288  251\n",
      "Data Science      274  288  284  827\n",
      "Engineering       271  256  252  289\n",
      "ML/AI             280  296  288  287\n"
     ]
    }
   ],
   "source": [
    "\n",
    "ct = pd.crosstab(df['job_category'], df['experience_level'])\n",
    "print(ct)"
   ]
  },
  {
   "cell_type": "markdown",
   "id": "47907175-4b4b-4643-b3d9-788fc0ca0669",
   "metadata": {},
   "source": [
    "Summary Insights:\n",
    "\n",
    "1. Data Science has the most Senior (SE) professionals (827).\n",
    "2. Analysis has a relatively balanced distribution across experience levels.\n",
    "3. Engineering has a similar distribution to Analysis.\n",
    "4. ML/AI has a slightly higher count of Executive (EX) professionals (296)."
   ]
  },
  {
   "cell_type": "code",
   "execution_count": null,
   "id": "7e359f1d-9eee-4b87-9337-79fae20dc454",
   "metadata": {},
   "outputs": [],
   "source": []
  },
  {
   "cell_type": "markdown",
   "id": "c0977242-3210-4e11-9b1b-dba18deb83ef",
   "metadata": {},
   "source": [
    "7.show the count of experience levels for each job category."
   ]
  },
  {
   "cell_type": "code",
   "execution_count": 13,
   "id": "f9619755-6569-4118-888b-70304db13d22",
   "metadata": {},
   "outputs": [
    {
     "name": "stdout",
     "output_type": "stream",
     "text": [
      "company_location   CN   DE   IN   JP   MX   UK   US\n",
      "job_category                                       \n",
      "Analysis          147  187  144  146  164  170  150\n",
      "Data Science      228  239  251  240  240  267  208\n",
      "Engineering       168  121  152  154  147  177  149\n",
      "ML/AI             154  179  161  143  162  175  177\n"
     ]
    }
   ],
   "source": [
    "ct = pd.crosstab(df['job_category'], df['company_location'])\n",
    "print(ct)"
   ]
  },
  {
   "cell_type": "markdown",
   "id": "d4ccfa08-009a-4806-886d-3967eda9e5b6",
   "metadata": {},
   "source": [
    "Summary Insights:\n",
    "\n",
    "1. Data Science has the highest count across most locations.\n",
    "2. UK has the highest count for Data Science (267).\n",
    "3. US has a significant presence across all job categories.\n",
    "4. IN (India) has a notable presence in Data Science (251)."
   ]
  },
  {
   "cell_type": "code",
   "execution_count": null,
   "id": "7ee0217b-d73b-41e8-b558-a53ed4a1b842",
   "metadata": {},
   "outputs": [],
   "source": []
  },
  {
   "cell_type": "code",
   "execution_count": null,
   "id": "2707a308-bea8-418b-aa06-5676dd7591ad",
   "metadata": {},
   "outputs": [],
   "source": []
  }
 ],
 "metadata": {
  "kernelspec": {
   "display_name": "Python 3 (ipykernel)",
   "language": "python",
   "name": "python3"
  },
  "language_info": {
   "codemirror_mode": {
    "name": "ipython",
    "version": 3
   },
   "file_extension": ".py",
   "mimetype": "text/x-python",
   "name": "python",
   "nbconvert_exporter": "python",
   "pygments_lexer": "ipython3",
   "version": "3.10.14"
  }
 },
 "nbformat": 4,
 "nbformat_minor": 5
}
