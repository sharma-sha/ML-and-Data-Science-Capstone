{
 "cells": [
  {
   "cell_type": "code",
   "execution_count": 1,
   "id": "0b647014-39ae-4f2f-bb5e-f10fbf0f4a4c",
   "metadata": {},
   "outputs": [],
   "source": [
    "import pandas as pd"
   ]
  },
  {
   "cell_type": "code",
   "execution_count": 2,
   "id": "dd7275d5-9345-4f6f-a76b-bc4760b1732f",
   "metadata": {},
   "outputs": [],
   "source": [
    "from Univariate import Univariate"
   ]
  },
  {
   "cell_type": "code",
   "execution_count": 3,
   "id": "324410fb-3067-4b41-9079-f4d8b5c9d50d",
   "metadata": {},
   "outputs": [],
   "source": [
    "dataset=pd.read_csv(\"DS_jOBs.csv\")"
   ]
  },
  {
   "cell_type": "code",
   "execution_count": 4,
   "id": "1b03ae4a-fbbf-4131-a6ee-6a487e5c5ba3",
   "metadata": {},
   "outputs": [
    {
     "name": "stdout",
     "output_type": "stream",
     "text": [
      "work_year\n",
      "quan\n",
      "salary\n",
      "quan\n",
      "salary_in_usd\n",
      "quan\n",
      "job_title\n",
      "qual\n",
      "job_category\n",
      "qual\n",
      "salary_currency\n",
      "qual\n",
      "employee_residence\n",
      "qual\n",
      "experience_level\n",
      "qual\n",
      "employment_type\n",
      "qual\n",
      "work_setting\n",
      "qual\n",
      "company_location\n",
      "qual\n",
      "company_size\n",
      "qual\n"
     ]
    }
   ],
   "source": [
    "quan,qual=Univariate.quanQual(dataset)"
   ]
  },
  {
   "cell_type": "code",
   "execution_count": 5,
   "id": "35df3ac2-8354-4d7c-993d-d3b86bfbf82c",
   "metadata": {},
   "outputs": [
    {
     "data": {
      "text/plain": [
       "['work_year', 'salary', 'salary_in_usd']"
      ]
     },
     "execution_count": 5,
     "metadata": {},
     "output_type": "execute_result"
    }
   ],
   "source": [
    "quan"
   ]
  },
  {
   "cell_type": "code",
   "execution_count": 6,
   "id": "102ce263-c666-4a7e-8c78-1bcb2a746d98",
   "metadata": {},
   "outputs": [
    {
     "data": {
      "text/plain": [
       "['job_title',\n",
       " 'job_category',\n",
       " 'salary_currency',\n",
       " 'employee_residence',\n",
       " 'experience_level',\n",
       " 'employment_type',\n",
       " 'work_setting',\n",
       " 'company_location',\n",
       " 'company_size']"
      ]
     },
     "execution_count": 6,
     "metadata": {},
     "output_type": "execute_result"
    }
   ],
   "source": [
    "qual"
   ]
  },
  {
   "cell_type": "code",
   "execution_count": null,
   "id": "c6b10b32-5a61-4a7b-8526-8a9651b758c4",
   "metadata": {},
   "outputs": [],
   "source": []
  }
 ],
 "metadata": {
  "kernelspec": {
   "display_name": "Python 3 (ipykernel)",
   "language": "python",
   "name": "python3"
  },
  "language_info": {
   "codemirror_mode": {
    "name": "ipython",
    "version": 3
   },
   "file_extension": ".py",
   "mimetype": "text/x-python",
   "name": "python",
   "nbconvert_exporter": "python",
   "pygments_lexer": "ipython3",
   "version": "3.10.14"
  }
 },
 "nbformat": 4,
 "nbformat_minor": 5
}
