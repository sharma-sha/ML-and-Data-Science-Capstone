{
 "cells": [
  {
   "cell_type": "code",
   "execution_count": 1,
   "id": "beec2faa",
   "metadata": {},
   "outputs": [],
   "source": [
    "import pickle"
   ]
  },
  {
   "cell_type": "code",
   "execution_count": 2,
   "id": "ba54b125",
   "metadata": {},
   "outputs": [],
   "source": [
    "import pandas as pd"
   ]
  },
  {
   "cell_type": "code",
   "execution_count": 3,
   "id": "2ded05a3",
   "metadata": {},
   "outputs": [],
   "source": [
    "dataset=pd.read_csv(\"DS_jOBs.csv\")"
   ]
  },
  {
   "cell_type": "code",
   "execution_count": 4,
   "id": "d20c0146",
   "metadata": {},
   "outputs": [],
   "source": [
    "dataset=pd.get_dummies(dataset,dtype=int,drop_first=True)\n",
    "independent=dataset[['work_year', 'salary_in_usd',\n",
    "       'job_title_Data Analyst  (Remote)', 'job_title_Data Analyst  in office',\n",
    "       'job_title_Data Engineer  ', 'job_title_Data Engineer  (Remote)',\n",
    "       'job_title_Data Engineer  in office', 'job_title_Data Scientist  ',\n",
    "       'job_title_Data Scientist  (Remote)',\n",
    "       'job_title_Data Scientist  in office',\n",
    "       'job_title_Machine Learning Engineer  ',\n",
    "       'job_title_Machine Learning Engineer  (Remote)',\n",
    "       'job_title_Machine Learning Engineer  in office',\n",
    "       'job_title_Statistician  ', 'job_title_Statistician  (Remote)',\n",
    "       'job_title_Statistician  in office', 'job_category_Data Science',\n",
    "       'job_category_Engineering', 'job_category_ML/AI', 'salary_currency_GBP',\n",
    "       'salary_currency_INR', 'salary_currency_JPY',\n",
    "       'salary_currency_us dolars', 'employee_residence_DE',\n",
    "       'employee_residence_IN', 'employee_residence_JP',\n",
    "       'employee_residence_MX', 'employee_residence_UK',\n",
    "       'employee_residence_US', 'experience_level_EX', 'experience_level_MI',\n",
    "       'experience_level_SE', 'employment_type_FL', 'employment_type_FT',\n",
    "       'employment_type_PT', 'work_setting_In-person', 'work_setting_Remote',\n",
    "       'company_location_DE', 'company_location_IN', 'company_location_JP',\n",
    "       'company_location_MX', 'company_location_UK', 'company_location_US',\n",
    "       'company_size_M', 'company_size_S']]\n",
    "\n",
    "dependent=dataset[['salary']]\n",
    "from sklearn.model_selection import train_test_split\n",
    "x_train,x_test,y_train,y_test=train_test_split(independent, dependent, test_size=0.30, random_state=0)"
   ]
  },
  {
   "cell_type": "code",
   "execution_count": 5,
   "id": "ab60586c",
   "metadata": {},
   "outputs": [],
   "source": [
    "from sklearn.preprocessing import StandardScaler\n",
    "sc=StandardScaler()\n",
    "x_train=sc.fit_transform(x_train)\n",
    "x_test=sc.transform(x_test)"
   ]
  },
  {
   "cell_type": "code",
   "execution_count": 6,
   "id": "fa108cc9-0e2a-40e0-85a3-5d90bc434602",
   "metadata": {},
   "outputs": [],
   "source": [
    "scy=StandardScaler()\n",
    "y_train=scy.fit_transform(y_train)\n",
    "y_test=scy.transform(y_test)"
   ]
  },
  {
   "cell_type": "code",
   "execution_count": 7,
   "id": "50d4909c",
   "metadata": {},
   "outputs": [
    {
     "name": "stderr",
     "output_type": "stream",
     "text": [
      "C:\\Anaconda3\\envs\\aiml\\lib\\site-packages\\sklearn\\base.py:493: UserWarning: X does not have valid feature names, but StandardScaler was fitted with feature names\n",
      "  warnings.warn(\n"
     ]
    },
    {
     "data": {
      "text/plain": [
       "array([[ 1.24458587e+00, -1.06536325e+00,  6.02002627e+05,\n",
       "        -2.68893885e-01, -2.68282496e-01, -2.69504261e-01,\n",
       "        -2.89121655e-01, -2.79732290e-01, -2.50720189e-01,\n",
       "        -2.55830043e-01, -2.63354004e-01, -2.70722001e-01,\n",
       "        -2.70113631e-01, -2.70113631e-01, -2.52005026e-01,\n",
       "        -2.58984885e-01, -7.04986516e-01, -5.21789834e-01,\n",
       "        -5.47417391e-01, -4.56230598e-01,  2.15526362e+00,\n",
       "         2.13851547e+00,  2.15949772e+00,  2.42688355e+00,\n",
       "         2.34125639e+00,  2.29372637e+00,  2.51744438e+00,\n",
       "         2.57719254e+00,  2.44948974e+00,  1.84159388e+00,\n",
       "         1.89715881e+00,  1.42212957e+00,  1.71635806e+00,\n",
       "         1.74400987e+00,  1.70733383e+00,  1.41209489e+00,\n",
       "        -6.99090982e-01, -4.12999470e-01, -4.09676093e-01,\n",
       "        -3.94814472e-01, -4.07771882e-01, -4.35507627e-01,\n",
       "        -3.94814472e-01, -6.63126484e-01, -8.18928807e-01]])"
      ]
     },
     "execution_count": 7,
     "metadata": {},
     "output_type": "execute_result"
    }
   ],
   "source": [
    "#pripro\n",
    "preinput=sc.transform([[2022,61280,153309,0,0,0,0,0,0,0,0,0,0,0,0,0,0,0,0,0,1,1,1,1,1,1,1,1,1,1,1,1,1,1,1,1,0,0,0,0,0,0,0,0,0]])\n",
    "preinput\n"
   ]
  },
  {
   "cell_type": "code",
   "execution_count": 8,
   "id": "e1bed904-7deb-4a32-951f-7f5176b7dad4",
   "metadata": {},
   "outputs": [],
   "source": [
    "loaded_model=pickle.load(open(\"flinalized_model_svr.sav\",'rb'))\n",
    "result=loaded_model.predict(preinput)"
   ]
  },
  {
   "cell_type": "code",
   "execution_count": 9,
   "id": "14896a48",
   "metadata": {},
   "outputs": [
    {
     "data": {
      "text/plain": [
       "array([3.09505649e+08])"
      ]
     },
     "execution_count": 9,
     "metadata": {},
     "output_type": "execute_result"
    }
   ],
   "source": [
    "result"
   ]
  },
  {
   "cell_type": "code",
   "execution_count": 10,
   "id": "380ca55e-4d8c-4942-9126-ef8443b17231",
   "metadata": {},
   "outputs": [],
   "source": [
    "preoutput=scy.inverse_transform([result])"
   ]
  },
  {
   "cell_type": "code",
   "execution_count": 11,
   "id": "c866f6de-3caa-4832-bd7b-f11c5f1ef92d",
   "metadata": {},
   "outputs": [
    {
     "data": {
      "text/plain": [
       "array([[2.15776806e+13]])"
      ]
     },
     "execution_count": 11,
     "metadata": {},
     "output_type": "execute_result"
    }
   ],
   "source": [
    "preoutput"
   ]
  },
  {
   "cell_type": "code",
   "execution_count": null,
   "id": "239becb6-9078-41a8-9ad6-88b18ba5943c",
   "metadata": {},
   "outputs": [],
   "source": []
  }
 ],
 "metadata": {
  "kernelspec": {
   "display_name": "Python 3 (ipykernel)",
   "language": "python",
   "name": "python3"
  },
  "language_info": {
   "codemirror_mode": {
    "name": "ipython",
    "version": 3
   },
   "file_extension": ".py",
   "mimetype": "text/x-python",
   "name": "python",
   "nbconvert_exporter": "python",
   "pygments_lexer": "ipython3",
   "version": "3.10.14"
  }
 },
 "nbformat": 4,
 "nbformat_minor": 5
}
