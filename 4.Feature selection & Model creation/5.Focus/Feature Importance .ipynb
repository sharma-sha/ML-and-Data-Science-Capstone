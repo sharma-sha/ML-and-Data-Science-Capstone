{
 "cells": [
  {
   "cell_type": "code",
   "execution_count": null,
   "id": "7d422bb3-0acc-462a-870a-f1b5ef2c8e05",
   "metadata": {},
   "outputs": [],
   "source": [
    "import numpy as np\n",
    "import pandas as pd\n",
    "from sklearn.model_selection import train_test_split\n",
    "from sklearn.tree import DecisionTreeRegressor\n",
    "from sklearn.metrics import mean_squared_error\n",
    "from sklearn.inspection import permutation_importance\n",
    "import matplotlib.pyplot as plt"
   ]
  },
  {
   "cell_type": "code",
   "execution_count": null,
   "id": "c1ad6ef8-e2bb-4cfb-bf21-399ff7d36b25",
   "metadata": {},
   "outputs": [],
   "source": [
    "\n",
    "# Load dataset\n",
    "dataset1 = pd.read_csv(\"DS_jOBs.csv\", index_col=None)\n",
    "\n",
    "# Create copy of dataset\n",
    "df2 = dataset1.copy()\n",
    "\n",
    "# One-hot encode categorical variables\n",
    "df2 = pd.get_dummies(df2, drop_first=True)"
   ]
  },
  {
   "cell_type": "code",
   "execution_count": null,
   "id": "dddbbd1a-7a3c-4ff0-b128-deb1848a8869",
   "metadata": {},
   "outputs": [],
   "source": [
    "# Split data into independent (X) and dependent (Y) variables\n",
    "indep_X = df2.drop(columns=['salary'])\n",
    "dep_Y = df2['salary']\n"
   ]
  },
  {
   "cell_type": "code",
   "execution_count": null,
   "id": "c5cdfe16-489f-4786-b654-44efcef6dd1d",
   "metadata": {},
   "outputs": [],
   "source": [
    "# Step 1: Splitting data into training and test sets\n",
    "X_train, X_test, y_train, y_test = train_test_split(indep_X, dep_Y, test_size=0.3, random_state=42)"
   ]
  },
  {
   "cell_type": "code",
   "execution_count": null,
   "id": "1605c1ee-6cc4-4ae9-8446-af77bd5de347",
   "metadata": {},
   "outputs": [],
   "source": [
    "# Step 2: Training a Decision Tree model\n",
    "model = DecisionTreeRegressor(random_state=42)\n",
    "model.fit(X_train, y_train)\n"
   ]
  },
  {
   "cell_type": "code",
   "execution_count": null,
   "id": "06c41c06-a136-4581-a067-7ab147468bb5",
   "metadata": {},
   "outputs": [],
   "source": [
    "# Step 3: Predicting on the test set\n",
    "y_pred = model.predict(X_test)\n",
    "mse_before = mean_squared_error(y_test, y_pred)\n",
    "print(f\"Model MSE before permutation: {mse_before:.4f}\")\n",
    "\n",
    "# Step 4: Applying Permutation Importance\n",
    "# This will shuffle the values of each feature and evaluate how it impacts the MSE\n",
    "perm_importance = permutation_importance(model, X_test, y_test, scoring='neg_mean_squared_error', n_repeats=10, random_state=42)\n",
    "\n",
    "# Step 5: Displaying the feature importance results\n",
    "feature_importance_df = pd.DataFrame({\n",
    "    'Feature': indep_X.columns,\n",
    "    'Importance Mean': perm_importance.importances_mean,\n",
    "    'Importance Std': perm_importance.importances_std\n",
    "})\n",
    "\n",
    "# Sorting features by their importance\n",
    "feature_importance_df = feature_importance_df.sort_values(by='Importance Mean', ascending=False)\n",
    "print(\"\\nFeature Importance:\\n\", feature_importance_df)\n",
    "\n",
    "# Step 6: Visualizing Feature Importance (Optional)\n",
    "plt.figure(figsize=(10, 15))\n",
    "plt.barh(feature_importance_df['Feature'], feature_importance_df['Importance Mean'])\n",
    "plt.xlabel('Importance Mean')\n",
    "plt.title('Feature Importance (Permutation)')\n",
    "plt.gca().invert_yaxis()\n",
    "plt.show()"
   ]
  },
  {
   "cell_type": "code",
   "execution_count": null,
   "id": "9d8b4f3b-259d-4412-8483-58433cfb2a7f",
   "metadata": {},
   "outputs": [],
   "source": []
  }
 ],
 "metadata": {
  "kernelspec": {
   "display_name": "Python 3 (ipykernel)",
   "language": "python",
   "name": "python3"
  },
  "language_info": {
   "codemirror_mode": {
    "name": "ipython",
    "version": 3
   },
   "file_extension": ".py",
   "mimetype": "text/x-python",
   "name": "python",
   "nbconvert_exporter": "python",
   "pygments_lexer": "ipython3",
   "version": "3.10.14"
  }
 },
 "nbformat": 4,
 "nbformat_minor": 5
}
